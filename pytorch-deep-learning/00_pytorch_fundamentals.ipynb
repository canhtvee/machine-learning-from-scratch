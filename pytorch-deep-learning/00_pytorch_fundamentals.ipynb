{
 "cells": [
  {
   "cell_type": "code",
   "execution_count": 2,
   "metadata": {},
   "outputs": [],
   "source": [
    "import torch"
   ]
  },
  {
   "cell_type": "code",
   "execution_count": 24,
   "metadata": {},
   "outputs": [
    {
     "data": {
      "text/plain": [
       "(tensor(10), torch.int64, device(type='cpu'), 0, torch.Size([]), 10)"
      ]
     },
     "execution_count": 24,
     "metadata": {},
     "output_type": "execute_result"
    }
   ],
   "source": [
    "# Scalar\n",
    "\n",
    "scalar = torch.tensor(10)\n",
    "scalar, scalar.dtype, scalar.device, scalar.ndim, scalar.shape, scalar.item()"
   ]
  },
  {
   "cell_type": "code",
   "execution_count": 45,
   "metadata": {},
   "outputs": [
    {
     "data": {
      "text/plain": [
       "(tensor([7, 8]), torch.Size([2]), 1, [7, 8])"
      ]
     },
     "execution_count": 45,
     "metadata": {},
     "output_type": "execute_result"
    }
   ],
   "source": [
    "# Vector\n",
    "\n",
    "vector = torch.tensor([7, 8]) \n",
    "vector, vector.shape, vector.ndim, vector.tolist()"
   ]
  },
  {
   "cell_type": "code",
   "execution_count": 56,
   "metadata": {},
   "outputs": [
    {
     "data": {
      "text/plain": [
       "(tensor([[1, 2],\n",
       "         [3, 4]]),\n",
       " torch.int64,\n",
       " torch.Size([2, 2]),\n",
       " 2)"
      ]
     },
     "execution_count": 56,
     "metadata": {},
     "output_type": "execute_result"
    }
   ],
   "source": [
    "# Matrix\n",
    "\n",
    "matrix = torch.tensor([[1,2], \n",
    "                       [3, 4]])\n",
    "matrix, matrix.dtype, matrix.shape, matrix.ndim"
   ]
  },
  {
   "cell_type": "code",
   "execution_count": 60,
   "metadata": {},
   "outputs": [
    {
     "data": {
      "text/plain": [
       "(torch.Size([1, 3, 3]), torch.Size([1, 3, 3]), 3)"
      ]
     },
     "execution_count": 60,
     "metadata": {},
     "output_type": "execute_result"
    }
   ],
   "source": [
    "# Tensor\n",
    "\n",
    "tensor = torch.tensor([[[1, 2, 3], \n",
    "                        [4, 5, 6], \n",
    "                        [7, 8, 9]]])\n",
    "\n",
    "tensor.size(), tensor.shape, tensor.ndim"
   ]
  },
  {
   "cell_type": "code",
   "execution_count": 87,
   "metadata": {},
   "outputs": [
    {
     "name": "stdout",
     "output_type": "stream",
     "text": [
      "tensor([[0.6179, 0.3610, 0.8433, 0.2524],\n",
      "        [0.0232, 0.8082, 0.5173, 0.2543],\n",
      "        [0.3276, 0.6645, 0.9315, 0.7405]])\n",
      "torch.float32\n",
      "tensor([[0., 0., 0., 0.],\n",
      "        [0., 0., 0., 0.],\n",
      "        [0., 0., 0., 0.],\n",
      "        [0., 0., 0., 0.],\n",
      "        [0., 0., 0., 0.]])\n",
      "torch.Size([5, 4])\n",
      "tensor([[1., 1., 1., 1., 1., 1.],\n",
      "        [1., 1., 1., 1., 1., 1.]])\n",
      "torch.Size([2, 6])\n"
     ]
    }
   ],
   "source": [
    "random_tensor = torch.rand((3, 4))\n",
    "print(random_tensor)\n",
    "print( random_tensor.dtype)\n",
    "\n",
    "zeros = torch.zeros(size=(5, 4))\n",
    "print(zeros)\n",
    "print(zeros.shape)\n",
    "\n",
    "ones = torch.ones(size=(2, 6))\n",
    "print(ones)\n",
    "print(ones.shape)\n"
   ]
  },
  {
   "cell_type": "code",
   "execution_count": 95,
   "metadata": {},
   "outputs": [
    {
     "name": "stdout",
     "output_type": "stream",
     "text": [
      "tensor([0, 1, 2, 3, 4, 5, 6, 7, 8, 9])\n",
      "tensor([0, 0, 0, 0, 0, 0, 0, 0, 0, 0])\n",
      "tensor([1, 1, 1, 1, 1, 1, 1, 1, 1, 1])\n"
     ]
    }
   ],
   "source": [
    "zero_to_ten = torch.arange(0, 10, 1)\n",
    "\n",
    "print(zero_to_ten)\n",
    "\n",
    "ten_zeros = torch.zeros_like(zero_to_ten)\n",
    "ten_ones = torch.ones_like(zero_to_ten)\n",
    " \n",
    "print(ten_zeros)\n",
    "print(ten_ones)"
   ]
  },
  {
   "cell_type": "code",
   "execution_count": 103,
   "metadata": {},
   "outputs": [
    {
     "data": {
      "text/plain": [
       "torch.float16"
      ]
     },
     "execution_count": 103,
     "metadata": {},
     "output_type": "execute_result"
    }
   ],
   "source": [
    "# Tensor dtype\n",
    "\n",
    "float_16_tensor = torch.tensor([3, 6, 9], dtype=torch.float16)\n",
    "float_16_tensor.dtype"
   ]
  },
  {
   "cell_type": "code",
   "execution_count": 110,
   "metadata": {},
   "outputs": [
    {
     "name": "stdout",
     "output_type": "stream",
     "text": [
      "Addition tensor([11, 12, 13])\n",
      "Multiply tensor([10, 20, 30])\n",
      "Subtraction tensor([-9, -8, -7])\n",
      "Original tensor([1, 2, 3])\n"
     ]
    }
   ],
   "source": [
    "# Operation with scalar\n",
    "\n",
    "ts = torch.tensor([1, 2, 3])\n",
    "\n",
    "\n",
    "print('Addition', ts + 10)\n",
    "print('Multiply', ts * 10)\n",
    "print('Subtraction', ts - 10)\n",
    "\n",
    "print('Original', ts)"
   ]
  },
  {
   "cell_type": "code",
   "execution_count": 127,
   "metadata": {},
   "outputs": [
    {
     "name": "stdout",
     "output_type": "stream",
     "text": [
      "tensor([0.5537, 0.8983, 0.7046]) tensor([0.3065, 0.8070, 0.4964]) tensor([0.3065, 0.8070, 0.4964])\n",
      "tensor([[0.1604, 0.4846, 0.2019, 0.2788],\n",
      "        [0.8856, 1.1308, 1.0947, 0.5951]])\n"
     ]
    }
   ],
   "source": [
    "# Operation with tensor\n",
    "\n",
    "ts1 = torch.rand(3)\n",
    " \n",
    "print(ts1,  ts1 * ts1, torch.multiply(ts1, ts1))\n",
    "\n",
    "tsa = torch.rand(size=(2, 3))\n",
    "tsb = torch.rand(size=(3, 4))\n",
    "\n",
    "print(torch.mm(tsa, tsb))"
   ]
  },
  {
   "cell_type": "code",
   "execution_count": 131,
   "metadata": {},
   "outputs": [
    {
     "name": "stdout",
     "output_type": "stream",
     "text": [
      "Input: tensor([[0.2666, 0.6274],\n",
      "        [0.2696, 0.4414],\n",
      "        [0.2969, 0.8317],\n",
      "        [0.1053, 0.2695],\n",
      "        [0.3588, 0.1994]])\n",
      "\n",
      "Input shape: torch.Size([5, 2])\n",
      "\n",
      "Output:\n",
      "tensor([[ 1.0348,  0.4592,  0.3892,  0.0690,  0.3858,  0.3514],\n",
      "        [ 0.9272,  0.3378,  0.3622, -0.0094,  0.4842,  0.3286],\n",
      "        [ 1.1711,  0.5868,  0.4136,  0.1433,  0.2987,  0.3971],\n",
      "        [ 0.7375,  0.2534,  0.3631, -0.0242,  0.4709,  0.2049],\n",
      "        [ 0.8334,  0.1658,  0.3138, -0.1406,  0.6653,  0.3514]],\n",
      "       grad_fn=<AddmmBackward0>)\n",
      "\n",
      "Output shape: torch.Size([5, 6])\n"
     ]
    }
   ],
   "source": [
    "# Manual seed\n",
    "\n",
    "torch.manual_seed(42)\n",
    "\n",
    "linear = torch.nn.Linear(in_features=2, out_features=6)\n",
    "\n",
    "x = torch.rand(5, 2)\n",
    "output = linear(x)\n",
    "print(f\"Input: {x}\\n\")\n",
    "print(f\"Input shape: {x.shape}\\n\")\n",
    "print(f\"Output:\\n{output}\\n\\nOutput shape: {output.shape}\")"
   ]
  },
  {
   "cell_type": "code",
   "execution_count": 136,
   "metadata": {},
   "outputs": [
    {
     "data": {
      "text/plain": [
       "(tensor(0., dtype=torch.float16),\n",
       " tensor(90., dtype=torch.float16),\n",
       " tensor(45., dtype=torch.float16),\n",
       " tensor(450., dtype=torch.float16),\n",
       " tensor(0),\n",
       " tensor(9))"
      ]
     },
     "execution_count": 136,
     "metadata": {},
     "output_type": "execute_result"
    }
   ],
   "source": [
    "ts = torch.arange(0, 100, 10, dtype=torch.float16)\n",
    "\n",
    "ts.min(), ts.max(), ts.mean(), ts.sum(), ts.argmin(), ts.argmax()"
   ]
  },
  {
   "cell_type": "code",
   "execution_count": 156,
   "metadata": {},
   "outputs": [
    {
     "name": "stdout",
     "output_type": "stream",
     "text": [
      "original tensor([1, 2, 3, 4, 5, 6, 7]) torch.Size([7])\n",
      "reshaping tensor([[1, 2, 3, 4, 5, 6, 7]]) torch.Size([1, 7])\n",
      "viewing tensor([[1, 2, 3, 4, 5, 6, 7]]) torch.Size([1, 7])\n",
      "viewing tensor([1, 2, 3, 4, 5, 5, 7]) tensor([[1, 2, 3, 4, 5, 5, 7]]) tensor([[True, True, True, True, True, True, True]])\n",
      "tensor([[1, 1, 1],\n",
      "        [2, 2, 2],\n",
      "        [3, 3, 3],\n",
      "        [4, 4, 4],\n",
      "        [5, 5, 5],\n",
      "        [5, 5, 5],\n",
      "        [7, 7, 7]])\n",
      "squeeze tensor([[[1, 2, 3, 4, 5, 5, 7]]])\n"
     ]
    }
   ],
   "source": [
    "# Transform\n",
    "\n",
    "x = torch.arange(1, 8)\n",
    "print('original', x, x.shape)\n",
    "\n",
    "x_reshaped = x.reshape(1, 7)\n",
    "print('reshaping', x_reshaped, x_reshaped.shape)\n",
    "\n",
    "x_view = x.view(1, 7)\n",
    "print('viewing', x_view, x_view.shape)\n",
    "\n",
    "x_view[:, 5] = 5\n",
    "\n",
    "print('viewing', x, x_view, x == x_view)\n",
    "\n",
    "x_stacked = torch.stack([x, x, x], dim=1)\n",
    "\n",
    "print(x_stacked)\n",
    "\n",
    "print('squeeze', x_reshaped.unsqueeze(dim=0))"
   ]
  },
  {
   "cell_type": "code",
   "execution_count": 161,
   "metadata": {},
   "outputs": [
    {
     "name": "stdout",
     "output_type": "stream",
     "text": [
      "Previous shape: torch.Size([224, 224, 3])\n",
      "New shape: torch.Size([224, 3, 224])\n"
     ]
    }
   ],
   "source": [
    "# Create tensor with specific shape\n",
    "x_original = torch.rand(size=(224, 224, 3))\n",
    "\n",
    "# Permute the original tensor to rearrange the axis order\n",
    "x_permuted = x_original.permute(1, 2, 0) # shifts axis 0->1, 1->2, 2->0\n",
    "\n",
    "print(f\"Previous shape: {x_original.shape}\")\n",
    "print(f\"New shape: {x_permuted.shape}\")"
   ]
  },
  {
   "cell_type": "code",
   "execution_count": 177,
   "metadata": {},
   "outputs": [
    {
     "name": "stdout",
     "output_type": "stream",
     "text": [
      "tensor([[[1, 2, 3],\n",
      "         [4, 5, 6],\n",
      "         [7, 8, 9]]]) torch.Size([1, 3, 3])\n",
      "tensor([[1, 2, 3],\n",
      "        [4, 5, 6],\n",
      "        [7, 8, 9]]) torch.Size([3, 3])\n",
      "tensor([[1, 2, 3],\n",
      "        [4, 5, 6],\n",
      "        [7, 8, 9]]) tensor([1, 2, 3])\n"
     ]
    }
   ],
   "source": [
    "z = torch.arange(1, 10).reshape(1, 3, 3)\n",
    "print (z, z.shape)\n",
    "\n",
    "zz = z.squeeze(dim=0)\n",
    "print(zz, zz.shape)\n",
    "\n",
    "print(z[0,:], zz[0, :])"
   ]
  },
  {
   "cell_type": "code",
   "execution_count": 182,
   "metadata": {},
   "outputs": [
    {
     "data": {
      "text/plain": [
       "(array([2., 3., 4., 5., 6., 7., 8.]),\n",
       " tensor([3., 4., 5., 6., 7., 8., 9.], dtype=torch.float64),\n",
       " array([1., 2., 3., 4., 5., 6., 7.]),\n",
       " tensor([1., 2., 3., 4., 5., 6., 7.], dtype=torch.float64))"
      ]
     },
     "execution_count": 182,
     "metadata": {},
     "output_type": "execute_result"
    }
   ],
   "source": [
    "# Torch and NumPy\n",
    "\n",
    "import numpy as np\n",
    "\n",
    "array = np.arange(1.0, 8.0)\n",
    "tensor = torch.from_numpy(array)\n",
    "array + 1, tensor + 2, array, tensor"
   ]
  },
  {
   "cell_type": "code",
   "execution_count": 183,
   "metadata": {},
   "outputs": [
    {
     "data": {
      "text/plain": [
       "(tensor([1., 1., 1., 1., 1., 1., 1.]),\n",
       " array([1., 1., 1., 1., 1., 1., 1.], dtype=float32))"
      ]
     },
     "execution_count": 183,
     "metadata": {},
     "output_type": "execute_result"
    }
   ],
   "source": [
    "ts = torch.ones(7)\n",
    "np_tensor = ts.numpy()\n",
    "\n",
    "ts, np_tensor"
   ]
  },
  {
   "cell_type": "code",
   "execution_count": 184,
   "metadata": {},
   "outputs": [
    {
     "name": "stderr",
     "output_type": "stream",
     "text": [
      "'nvidia-smi' is not recognized as an internal or external command,\n",
      "operable program or batch file.\n"
     ]
    }
   ],
   "source": [
    "!nvidia-smi\n"
   ]
  }
 ],
 "metadata": {
  "kernelspec": {
   "display_name": "Python 3",
   "language": "python",
   "name": "python3"
  },
  "language_info": {
   "codemirror_mode": {
    "name": "ipython",
    "version": 3
   },
   "file_extension": ".py",
   "mimetype": "text/x-python",
   "name": "python",
   "nbconvert_exporter": "python",
   "pygments_lexer": "ipython3",
   "version": "3.12.6"
  }
 },
 "nbformat": 4,
 "nbformat_minor": 2
}
